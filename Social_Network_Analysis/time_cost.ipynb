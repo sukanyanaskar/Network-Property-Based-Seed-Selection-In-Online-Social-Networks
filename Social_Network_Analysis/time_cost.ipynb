{
 "cells": [
  {
   "cell_type": "code",
   "execution_count": 2,
   "metadata": {},
   "outputs": [],
   "source": [
    "import random\n",
    "import math\n",
    "import numpy as np\n",
    "\n",
    "def time_cost_calc(stack,top_val1,neighbor_nodes,l):\n",
    "    key=0\n",
    "    dup=0\n",
    "    length=0\n",
    "    top_val2=top_val1\n",
    "    time=1\n",
    "    test=0\n",
    "#     print (str(top_val1))\n",
    "    while(test<100):      #(not(top_val1==-1 and top_val2==(l-1))):\n",
    "        if(top_val1==-1):\n",
    "            top_val1=top_val2\n",
    "#             print(stack)\n",
    "#             print(top_val1)\n",
    "            time=time+1\n",
    "            test=test+1\n",
    "            if(top_val1+1==l):\n",
    "                break\n",
    "        else:\n",
    "            key=int(stack[top_val1])\n",
    "            length=len(neighbor_nodes[key-1])\n",
    "            for i in range(length):\n",
    "                for j in range(top_val2+1):\n",
    "                    if(neighbor_nodes[key-1][i]==stack[j]):\n",
    "                        dup=1\n",
    "                        break\n",
    "                    else:\n",
    "                        dup=0\n",
    "                    \n",
    "                if(dup==0):\n",
    "                    top_val2=top_val2+1\n",
    "                    stack[top_val2]=neighbor_nodes[key-1][i]\n",
    "            top_val1=top_val1-1\n",
    "#     print \"\"\n",
    "    return(time)\n",
    "    "
   ]
  },
  {
   "cell_type": "code",
   "execution_count": null,
   "metadata": {},
   "outputs": [],
   "source": []
  },
  {
   "cell_type": "code",
   "execution_count": null,
   "metadata": {},
   "outputs": [],
   "source": []
  }
 ],
 "metadata": {
  "kernelspec": {
   "display_name": "Python 2",
   "language": "python",
   "name": "python2"
  },
  "language_info": {
   "codemirror_mode": {
    "name": "ipython",
    "version": 2
   },
   "file_extension": ".py",
   "mimetype": "text/x-python",
   "name": "python",
   "nbconvert_exporter": "python",
   "pygments_lexer": "ipython2",
   "version": "2.7.14"
  }
 },
 "nbformat": 4,
 "nbformat_minor": 2
}
